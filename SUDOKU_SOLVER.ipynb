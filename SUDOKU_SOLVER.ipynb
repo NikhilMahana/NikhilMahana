{
  "nbformat": 4,
  "nbformat_minor": 0,
  "metadata": {
    "colab": {
      "name": "SUDOKU_SOLVER.ipynb",
      "provenance": [],
      "collapsed_sections": [],
      "include_colab_link": true
    },
    "kernelspec": {
      "display_name": "Python 3",
      "language": "python",
      "name": "python3"
    },
    "language_info": {
      "codemirror_mode": {
        "name": "ipython",
        "version": 3
      },
      "file_extension": ".py",
      "mimetype": "text/x-python",
      "name": "python",
      "nbconvert_exporter": "python",
      "pygments_lexer": "ipython3",
      "version": "3.6.9"
    }
  },
  "cells": [
    {
      "cell_type": "markdown",
      "metadata": {
        "id": "view-in-github",
        "colab_type": "text"
      },
      "source": [
        "<a href=\"https://colab.research.google.com/github/NikhilMahana/NikhilMahana/blob/main/SUDOKU_SOLVER.ipynb\" target=\"_parent\"><img src=\"https://colab.research.google.com/assets/colab-badge.svg\" alt=\"Open In Colab\"/></a>"
      ]
    },
    {
      "cell_type": "markdown",
      "metadata": {
        "id": "i4NMqkJNGKpj"
      },
      "source": [
        "**Step1**"
      ]
    },
    {
      "cell_type": "code",
      "metadata": {
        "colab": {
          "base_uri": "https://localhost:8080/"
        },
        "id": "m8wrimZPGJfL",
        "outputId": "5b2aa31a-53b8-4e17-a193-ffc5264ab3ee"
      },
      "source": [
        "sudo = [[2, 8, 0, 0, 3, 0, 9, 0, 1],\n",
        "        [0, 1, 0, 0, 0, 4, 0, 0, 0],\n",
        "        [4, 0, 7, 0, 0, 0, 2, 0, 8],\n",
        "        [0, 0, 5, 2, 0, 0, 0, 0, 0],\n",
        "        [0, 0, 0, 0, 9, 8, 1, 0, 0],\n",
        "        [0, 4, 0, 0, 0, 3, 0, 0, 0],\n",
        "        [0, 0, 0, 3, 6, 0, 0, 7, 2],\n",
        "        [0, 7, 0, 0, 0, 0, 0, 0, 3],\n",
        "        [9, 0, 3, 0, 0, 0, 6, 0, 4]]\n",
        "        \n",
        "for i in sudo:\n",
        "        print(i)"
      ],
      "execution_count": null,
      "outputs": [
        {
          "output_type": "stream",
          "name": "stdout",
          "text": [
            "[2, 8, 0, 0, 3, 0, 9, 0, 1]\n",
            "[0, 1, 0, 0, 0, 4, 0, 0, 0]\n",
            "[4, 0, 7, 0, 0, 0, 2, 0, 8]\n",
            "[0, 0, 5, 2, 0, 0, 0, 0, 0]\n",
            "[0, 0, 0, 0, 9, 8, 1, 0, 0]\n",
            "[0, 4, 0, 0, 0, 3, 0, 0, 0]\n",
            "[0, 0, 0, 3, 6, 0, 0, 7, 2]\n",
            "[0, 7, 0, 0, 0, 0, 0, 0, 3]\n",
            "[9, 0, 3, 0, 0, 0, 6, 0, 4]\n"
          ]
        }
      ]
    },
    {
      "cell_type": "markdown",
      "metadata": {
        "id": "EaxhE26qHHuz"
      },
      "source": [
        "**Step2**"
      ]
    },
    {
      "cell_type": "code",
      "metadata": {
        "id": "HXhEMpTUFzHu"
      },
      "source": [
        "size = 9\n",
        "def find_number(row, col, num):\n",
        "    # check if number exists in row, if it does return false and check the next number form 1-9 until one doesnt\n",
        "    for x in range(9):  \n",
        "        if sudo[row][x] == num:\n",
        "            return False\n",
        "    # check if number exists in coloumn, if it does return false and check the next number form 1-9 until one doesnt         \n",
        "    for x in range(9):\n",
        "        if sudo[x][col] == num:\n",
        "            return False\n",
        " \n",
        "    # check if number exists in the 3x3 subgrid , if it does return false and check the next number form 1-9 until one doesnt\n",
        "    startRow = row - row % 3 \n",
        "    startCol = col - col % 3\n",
        "    for i in range(3):\n",
        "        for j in range(3):\n",
        "            if sudo[i + startRow][j + startCol] == num:\n",
        "                return False\n",
        "    return True"
      ],
      "execution_count": null,
      "outputs": []
    },
    {
      "cell_type": "markdown",
      "metadata": {
        "id": "gkp8lvLpHkCv"
      },
      "source": [
        "**Step3**"
      ]
    },
    {
      "cell_type": "code",
      "metadata": {
        "id": "Lr1dF1UYHjrL"
      },
      "source": [
        "def iterate_through( row, col):\n",
        "    \n",
        "    #once all numbers allocated it reaches the end of sudoku return true \n",
        "    if (row == size - 1 and col == size):\n",
        "        return True\n",
        "\n",
        "    #go to the next row if end of column reached\n",
        "    if col == size:\n",
        "        row += 1\n",
        "        col = 0\n",
        "    #if box has number already alocated run this same function on the next column (col+1) \n",
        "    if sudo[row][col] > 0:\n",
        "        return iterate_through( row, col + 1)\n",
        "\n",
        "    #if box is empty or unlocated go through numbers 1-9 and check whcih number is to be allocated\n",
        "    for num in range(1, size + 1): \n",
        "     \n",
        "        if find_number( row, col, num):\n",
        "            sudo[row][col] = num\n",
        "            \n",
        "            if iterate_through( row, col + 1):\n",
        "                return True\n",
        "        sudo[row][col] = 0\n",
        "    return False      "
      ],
      "execution_count": null,
      "outputs": []
    },
    {
      "cell_type": "code",
      "metadata": {
        "id": "YCRW7qsDhkjx"
      },
      "source": [
        "1 2 3 4 5 6 7 8 9 = x"
      ],
      "execution_count": null,
      "outputs": []
    },
    {
      "cell_type": "markdown",
      "metadata": {
        "id": "2wFe9q-zI3b5"
      },
      "source": [
        "**Step4**"
      ]
    },
    {
      "cell_type": "code",
      "metadata": {
        "colab": {
          "base_uri": "https://localhost:8080/"
        },
        "id": "I7peXGEGH4sK",
        "outputId": "ff940dd1-04f2-42a2-a883-7b1899e2f73e"
      },
      "source": [
        "if iterate_through( 0, 0)==True:\n",
        "    for i in sudo:\n",
        "        print(i)\n",
        "else:\n",
        "    print(\"No solution found!\")"
      ],
      "execution_count": null,
      "outputs": [
        {
          "output_type": "stream",
          "name": "stdout",
          "text": [
            "[2, 8, 6, 5, 3, 7, 9, 4, 1]\n",
            "[5, 1, 9, 8, 2, 4, 3, 6, 7]\n",
            "[4, 3, 7, 9, 1, 6, 2, 5, 8]\n",
            "[3, 9, 5, 2, 7, 1, 4, 8, 6]\n",
            "[7, 6, 2, 4, 9, 8, 1, 3, 5]\n",
            "[8, 4, 1, 6, 5, 3, 7, 2, 9]\n",
            "[1, 5, 4, 3, 6, 9, 8, 7, 2]\n",
            "[6, 7, 8, 1, 4, 2, 5, 9, 3]\n",
            "[9, 2, 3, 7, 8, 5, 6, 1, 4]\n"
          ]
        }
      ]
    }
  ]
}